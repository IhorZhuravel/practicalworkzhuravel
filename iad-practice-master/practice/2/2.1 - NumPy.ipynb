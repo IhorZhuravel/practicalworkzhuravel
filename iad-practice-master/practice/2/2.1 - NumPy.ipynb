{
  "cells": [
    {
      "cell_type": "code",
      "execution_count": 1,
      "metadata": {
        "id": "4eB2mM8IkiRC"
      },
      "outputs": [],
      "source": [
        "import numpy as np"
      ]
    },
    {
      "cell_type": "code",
      "execution_count": 2,
      "metadata": {
        "id": "pCIk2UZ1kiRE",
        "outputId": "a7eac896-8290-43f6-895e-f7bbacc00f3d",
        "colab": {
          "base_uri": "https://localhost:8080/",
          "height": 35
        }
      },
      "outputs": [
        {
          "output_type": "execute_result",
          "data": {
            "text/plain": [
              "'2.0.2'"
            ],
            "application/vnd.google.colaboratory.intrinsic+json": {
              "type": "string"
            }
          },
          "metadata": {},
          "execution_count": 2
        }
      ],
      "source": [
        "np.__version__"
      ]
    },
    {
      "cell_type": "code",
      "execution_count": 3,
      "metadata": {
        "id": "sGWIR0P_kiRF",
        "outputId": "84008058-d4f6-4b21-9458-5795df9454ed",
        "colab": {
          "base_uri": "https://localhost:8080/"
        }
      },
      "outputs": [
        {
          "output_type": "execute_result",
          "data": {
            "text/plain": [
              "[1, 2, 3]"
            ]
          },
          "metadata": {},
          "execution_count": 3
        }
      ],
      "source": [
        "p_list = [1, 2, 3]\n",
        "p_list"
      ]
    },
    {
      "cell_type": "code",
      "execution_count": 4,
      "metadata": {
        "id": "q71Bo_GRkiRG"
      },
      "outputs": [],
      "source": [
        "np_1d = np.array(p_list)"
      ]
    },
    {
      "cell_type": "code",
      "execution_count": 5,
      "metadata": {
        "id": "ml8cx8RNkiRG",
        "outputId": "edf480db-791a-4f68-be38-771c1d06ac25",
        "colab": {
          "base_uri": "https://localhost:8080/"
        }
      },
      "outputs": [
        {
          "output_type": "execute_result",
          "data": {
            "text/plain": [
              "array([1, 2, 3])"
            ]
          },
          "metadata": {},
          "execution_count": 5
        }
      ],
      "source": [
        "np_1d"
      ]
    },
    {
      "cell_type": "markdown",
      "metadata": {
        "id": "zzkmY3Z7kiRH"
      },
      "source": [
        "look for the type"
      ]
    },
    {
      "cell_type": "code",
      "execution_count": 6,
      "metadata": {
        "id": "F0mmQRKckiRI",
        "outputId": "73df60d8-05bc-4da1-a305-b2d1cc43f4a5",
        "colab": {
          "base_uri": "https://localhost:8080/"
        }
      },
      "outputs": [
        {
          "output_type": "execute_result",
          "data": {
            "text/plain": [
              "list"
            ]
          },
          "metadata": {},
          "execution_count": 6
        }
      ],
      "source": [
        "type(p_list)"
      ]
    },
    {
      "cell_type": "code",
      "execution_count": 7,
      "metadata": {
        "id": "soO2AX-AkiRJ",
        "outputId": "2d7f43f5-c199-4fba-e010-69db1c57ae0c",
        "colab": {
          "base_uri": "https://localhost:8080/"
        }
      },
      "outputs": [
        {
          "output_type": "execute_result",
          "data": {
            "text/plain": [
              "numpy.ndarray"
            ]
          },
          "metadata": {},
          "execution_count": 7
        }
      ],
      "source": [
        "type(np_1d)"
      ]
    },
    {
      "cell_type": "code",
      "execution_count": 8,
      "metadata": {
        "id": "QTLm8anTkiRJ",
        "outputId": "300cf25b-c997-462c-a2ec-1360bbd894eb",
        "colab": {
          "base_uri": "https://localhost:8080/"
        }
      },
      "outputs": [
        {
          "output_type": "execute_result",
          "data": {
            "text/plain": [
              "[[1, 2, 3], [4, 5, 6], [7, 8, 9]]"
            ]
          },
          "metadata": {},
          "execution_count": 8
        }
      ],
      "source": [
        "p_matrix = [[1,2,3],[4,5,6],[7,8,9]]\n",
        "p_matrix"
      ]
    },
    {
      "cell_type": "code",
      "execution_count": 9,
      "metadata": {
        "scrolled": true,
        "id": "H_8AVtrtkiRK",
        "outputId": "ba5b0a4b-76ee-4cf4-d4e2-dcf7595ab6f3",
        "colab": {
          "base_uri": "https://localhost:8080/"
        }
      },
      "outputs": [
        {
          "output_type": "execute_result",
          "data": {
            "text/plain": [
              "array([[1, 2, 3],\n",
              "       [4, 5, 6],\n",
              "       [7, 8, 9]])"
            ]
          },
          "metadata": {},
          "execution_count": 9
        }
      ],
      "source": [
        "np_matrix = np.array(p_matrix)\n",
        "np_matrix"
      ]
    },
    {
      "cell_type": "markdown",
      "metadata": {
        "id": "UcDoTw89kiRK"
      },
      "source": [
        "### Using built-in methods"
      ]
    },
    {
      "cell_type": "code",
      "execution_count": 10,
      "metadata": {
        "id": "cnDHbF29kiRK",
        "outputId": "37e57ff0-dee1-4a33-a4a5-23a0ef5270f3",
        "colab": {
          "base_uri": "https://localhost:8080/"
        }
      },
      "outputs": [
        {
          "output_type": "execute_result",
          "data": {
            "text/plain": [
              "array([0, 1, 2, 3, 4, 5, 6, 7, 8, 9])"
            ]
          },
          "metadata": {},
          "execution_count": 10
        }
      ],
      "source": [
        "np.arange(0, 10) # start, stop"
      ]
    },
    {
      "cell_type": "code",
      "execution_count": 11,
      "metadata": {
        "id": "xnNzEb03kiRL",
        "outputId": "268ca654-349c-4170-a4a2-7b11431ecdae",
        "colab": {
          "base_uri": "https://localhost:8080/"
        }
      },
      "outputs": [
        {
          "output_type": "execute_result",
          "data": {
            "text/plain": [
              "array([0, 2, 4, 6, 8])"
            ]
          },
          "metadata": {},
          "execution_count": 11
        }
      ],
      "source": [
        "np.arange(0, 10, 2) # start, stop, step"
      ]
    },
    {
      "cell_type": "code",
      "execution_count": 12,
      "metadata": {
        "id": "URL5zLwkkiRL",
        "outputId": "1df2b223-cc50-4ca1-a63b-4c4031c86975",
        "colab": {
          "base_uri": "https://localhost:8080/"
        }
      },
      "outputs": [
        {
          "output_type": "execute_result",
          "data": {
            "text/plain": [
              "array([0., 0., 0.])"
            ]
          },
          "metadata": {},
          "execution_count": 12
        }
      ],
      "source": [
        "np.zeros(3) # 1D"
      ]
    },
    {
      "cell_type": "code",
      "execution_count": 13,
      "metadata": {
        "id": "gdLnag1okiRL",
        "outputId": "6cac06e3-e0f4-459f-f150-ae8ca0e04136",
        "colab": {
          "base_uri": "https://localhost:8080/"
        }
      },
      "outputs": [
        {
          "output_type": "execute_result",
          "data": {
            "text/plain": [
              "array([[0., 0., 0., 0., 0.],\n",
              "       [0., 0., 0., 0., 0.],\n",
              "       [0., 0., 0., 0., 0.]])"
            ]
          },
          "metadata": {},
          "execution_count": 13
        }
      ],
      "source": [
        "np.zeros((3, 5)) # 2D"
      ]
    },
    {
      "cell_type": "code",
      "execution_count": 14,
      "metadata": {
        "id": "RmeKkVxfkiRL",
        "outputId": "d7c34402-20be-410f-d7b0-ac06e50a7a9a",
        "colab": {
          "base_uri": "https://localhost:8080/"
        }
      },
      "outputs": [
        {
          "output_type": "execute_result",
          "data": {
            "text/plain": [
              "array([ 0.        ,  0.20408163,  0.40816327,  0.6122449 ,  0.81632653,\n",
              "        1.02040816,  1.2244898 ,  1.42857143,  1.63265306,  1.83673469,\n",
              "        2.04081633,  2.24489796,  2.44897959,  2.65306122,  2.85714286,\n",
              "        3.06122449,  3.26530612,  3.46938776,  3.67346939,  3.87755102,\n",
              "        4.08163265,  4.28571429,  4.48979592,  4.69387755,  4.89795918,\n",
              "        5.10204082,  5.30612245,  5.51020408,  5.71428571,  5.91836735,\n",
              "        6.12244898,  6.32653061,  6.53061224,  6.73469388,  6.93877551,\n",
              "        7.14285714,  7.34693878,  7.55102041,  7.75510204,  7.95918367,\n",
              "        8.16326531,  8.36734694,  8.57142857,  8.7755102 ,  8.97959184,\n",
              "        9.18367347,  9.3877551 ,  9.59183673,  9.79591837, 10.        ])"
            ]
          },
          "metadata": {},
          "execution_count": 14
        }
      ],
      "source": [
        "np.linspace(0, 10, 50) # start, stop, number of elements"
      ]
    },
    {
      "cell_type": "markdown",
      "metadata": {
        "id": "5q92-4JnkiRL"
      },
      "source": [
        "## Random value generation"
      ]
    },
    {
      "cell_type": "markdown",
      "metadata": {
        "id": "pA5ZgWDgkiRL"
      },
      "source": [
        "### one value from range 0..1"
      ]
    },
    {
      "cell_type": "code",
      "execution_count": 15,
      "metadata": {
        "id": "8Gln6VWBkiRL",
        "outputId": "c6ad85e6-1b05-4082-b455-be913af6a40e",
        "colab": {
          "base_uri": "https://localhost:8080/"
        }
      },
      "outputs": [
        {
          "output_type": "execute_result",
          "data": {
            "text/plain": [
              "0.11877395304332605"
            ]
          },
          "metadata": {},
          "execution_count": 15
        }
      ],
      "source": [
        "rng = np.random.default_rng()\n",
        "rng.random()"
      ]
    },
    {
      "cell_type": "markdown",
      "metadata": {
        "id": "moYHsosqkiRM"
      },
      "source": [
        "## uniform sequence\n",
        "Return an array of the given shape with random samples from a uniform distribution"
      ]
    },
    {
      "cell_type": "code",
      "execution_count": 16,
      "metadata": {
        "id": "yig_8ZpMkiRM",
        "outputId": "fccf1496-058e-4295-ea5c-f07245217e36",
        "colab": {
          "base_uri": "https://localhost:8080/"
        }
      },
      "outputs": [
        {
          "output_type": "execute_result",
          "data": {
            "text/plain": [
              "array([0.56007567, 0.43173826, 0.83657182, 0.35677391, 0.02741161,\n",
              "       0.96404453, 0.66597489, 0.53231727, 0.02202999, 0.98620438])"
            ]
          },
          "metadata": {},
          "execution_count": 16
        }
      ],
      "source": [
        "np.random.uniform(0, 1, 10) # (low, high, size)"
      ]
    },
    {
      "cell_type": "markdown",
      "metadata": {
        "id": "53BgbXPVkiRM"
      },
      "source": [
        "### randn\n",
        "Return samples from the “standard normal” distribution."
      ]
    },
    {
      "cell_type": "code",
      "execution_count": 17,
      "metadata": {
        "id": "lJ0ecHeXkiRM",
        "outputId": "d9026f7d-1eb0-4720-bd3c-74c531807e68",
        "colab": {
          "base_uri": "https://localhost:8080/"
        }
      },
      "outputs": [
        {
          "output_type": "execute_result",
          "data": {
            "text/plain": [
              "array([[ 0.01279836, -1.36425912],\n",
              "       [ 2.34145913, -0.31156496]])"
            ]
          },
          "metadata": {},
          "execution_count": 17
        }
      ],
      "source": [
        "np.random.randn(2,2) # standard normal (Gaussian) distribution of mean 0 and variance 1"
      ]
    },
    {
      "cell_type": "markdown",
      "metadata": {
        "id": "TEVxEOtHkiRM"
      },
      "source": [
        "### normal"
      ]
    },
    {
      "cell_type": "code",
      "execution_count": 18,
      "metadata": {
        "id": "VkD1gbRjkiRM",
        "outputId": "07d4b991-b6f0-4807-c475-57cc274f60d2",
        "colab": {
          "base_uri": "https://localhost:8080/"
        }
      },
      "outputs": [
        {
          "output_type": "execute_result",
          "data": {
            "text/plain": [
              "array([[1.60708317, 1.38616309],\n",
              "       [0.80467497, 1.28003019],\n",
              "       [2.32136577, 0.80102926]])"
            ]
          },
          "metadata": {},
          "execution_count": 18
        }
      ],
      "source": [
        "mu, sigma = 1, 0.5 # mean and standard deviation\n",
        "np.random.normal(mu, sigma, size = (3, 2))"
      ]
    },
    {
      "cell_type": "markdown",
      "metadata": {
        "id": "0RQKdokxkiRM"
      },
      "source": [
        "### multivariate normal"
      ]
    },
    {
      "cell_type": "code",
      "execution_count": 19,
      "metadata": {
        "id": "L8jEZXfykiRM",
        "outputId": "49eaf7a7-389d-4c6a-da2b-49c2b5b4c4ff",
        "colab": {
          "base_uri": "https://localhost:8080/"
        }
      },
      "outputs": [
        {
          "output_type": "execute_result",
          "data": {
            "text/plain": [
              "array([[[1.50934526, 2.00760427],\n",
              "        [0.09217286, 1.30517312]],\n",
              "\n",
              "       [[2.66961702, 1.59350262],\n",
              "        [1.67364622, 3.22481886]],\n",
              "\n",
              "       [[1.23613257, 1.64751696],\n",
              "        [1.95068329, 3.35215796]]])"
            ]
          },
          "metadata": {},
          "execution_count": 19
        }
      ],
      "source": [
        "mean = [1, 2]\n",
        "cov = [[1, 0], [0, 1]]\n",
        "np.random.multivariate_normal(mean, cov, size= (3, 2))"
      ]
    },
    {
      "cell_type": "markdown",
      "metadata": {
        "id": "my6RPfjhkiRM"
      },
      "source": [
        "### randint\n",
        "Return random integers"
      ]
    },
    {
      "cell_type": "code",
      "execution_count": 20,
      "metadata": {
        "id": "xswwjqfGkiRM",
        "outputId": "cb2a749f-c6a4-4e15-89cd-f8f5130d44bd",
        "colab": {
          "base_uri": "https://localhost:8080/"
        }
      },
      "outputs": [
        {
          "output_type": "execute_result",
          "data": {
            "text/plain": [
              "array([ 8, 66, 73, 95, 46])"
            ]
          },
          "metadata": {},
          "execution_count": 20
        }
      ],
      "source": [
        "np.random.randint(1, 100, 5) # randint(low, high=None, size=None)"
      ]
    },
    {
      "cell_type": "markdown",
      "metadata": {
        "id": "6MesRePnkiRN"
      },
      "source": [
        "### seed()\n",
        "The seed() method is used to initialize the random number generator."
      ]
    },
    {
      "cell_type": "code",
      "execution_count": 21,
      "metadata": {
        "id": "HWNDDPP6kiRN"
      },
      "outputs": [],
      "source": [
        "np.random.seed(0)"
      ]
    },
    {
      "cell_type": "markdown",
      "metadata": {
        "id": "rLHXlYbBkiRN"
      },
      "source": [
        "### Operations"
      ]
    },
    {
      "cell_type": "code",
      "execution_count": 22,
      "metadata": {
        "id": "r462OKs7kiRN",
        "outputId": "2779477e-d315-4b7f-b084-9ec769887e75",
        "colab": {
          "base_uri": "https://localhost:8080/"
        }
      },
      "outputs": [
        {
          "output_type": "execute_result",
          "data": {
            "text/plain": [
              "array([0, 1, 2, 3, 4, 5, 6, 7, 8, 9])"
            ]
          },
          "metadata": {},
          "execution_count": 22
        }
      ],
      "source": [
        "a1d = np.arange(0, 10)\n",
        "a1d"
      ]
    },
    {
      "cell_type": "code",
      "execution_count": 23,
      "metadata": {
        "id": "FNrQV0B4kiRN",
        "outputId": "625d8021-1fc4-42d1-9a05-eb2f8e923c84",
        "colab": {
          "base_uri": "https://localhost:8080/"
        }
      },
      "outputs": [
        {
          "output_type": "execute_result",
          "data": {
            "text/plain": [
              "array([[0, 1, 2, 3, 4],\n",
              "       [5, 6, 7, 8, 9]])"
            ]
          },
          "metadata": {},
          "execution_count": 23
        }
      ],
      "source": [
        "a2d = a1d.reshape(2, 5) # https://numpy.org/doc/stable/reference/generated/numpy.reshape.html#numpy-reshape\n",
        "a2d"
      ]
    },
    {
      "cell_type": "code",
      "execution_count": 24,
      "metadata": {
        "id": "WsInL-WbkiRN",
        "outputId": "c2ff6149-c850-45a2-d57e-84b01af1b5fb",
        "colab": {
          "base_uri": "https://localhost:8080/"
        }
      },
      "outputs": [
        {
          "output_type": "execute_result",
          "data": {
            "text/plain": [
              "array([45, 48, 65, 68, 68, 10, 84, 22, 37, 88])"
            ]
          },
          "metadata": {},
          "execution_count": 24
        }
      ],
      "source": [
        "xs = np.random.randint(1, 100, 10)\n",
        "xs"
      ]
    },
    {
      "cell_type": "code",
      "execution_count": 25,
      "metadata": {
        "id": "vDMJDXF9kiRN",
        "outputId": "e4f9ad0a-1388-443b-a691-766e60d5e453",
        "colab": {
          "base_uri": "https://localhost:8080/"
        }
      },
      "outputs": [
        {
          "output_type": "execute_result",
          "data": {
            "text/plain": [
              "np.float64(53.5)"
            ]
          },
          "metadata": {},
          "execution_count": 25
        }
      ],
      "source": [
        "xs.mean()"
      ]
    },
    {
      "cell_type": "code",
      "execution_count": 26,
      "metadata": {
        "id": "Y1_Kt_RskiRN",
        "outputId": "f2598095-96be-4ad7-c7cb-a7df8b531602",
        "colab": {
          "base_uri": "https://localhost:8080/"
        }
      },
      "outputs": [
        {
          "output_type": "execute_result",
          "data": {
            "text/plain": [
              "np.int64(88)"
            ]
          },
          "metadata": {},
          "execution_count": 26
        }
      ],
      "source": [
        "xs.max() # value"
      ]
    },
    {
      "cell_type": "code",
      "execution_count": 27,
      "metadata": {
        "id": "NSswUFYekiRN",
        "outputId": "0fe621ae-58ad-48cc-bae1-11c4f610d277",
        "colab": {
          "base_uri": "https://localhost:8080/"
        }
      },
      "outputs": [
        {
          "output_type": "execute_result",
          "data": {
            "text/plain": [
              "np.int64(9)"
            ]
          },
          "metadata": {},
          "execution_count": 27
        }
      ],
      "source": [
        "xs.argmax() # index"
      ]
    },
    {
      "cell_type": "code",
      "execution_count": 28,
      "metadata": {
        "id": "zo_vktgAkiRN"
      },
      "outputs": [],
      "source": [
        "xs1 = np.array([1, 2, 3])\n",
        "xs2 = np.array([4, 5, 6])"
      ]
    },
    {
      "cell_type": "code",
      "execution_count": 29,
      "metadata": {
        "id": "9XnD0u0YkiRR",
        "outputId": "49fea4e3-3162-4350-abd8-a6ccb0db19eb",
        "colab": {
          "base_uri": "https://localhost:8080/"
        }
      },
      "outputs": [
        {
          "output_type": "execute_result",
          "data": {
            "text/plain": [
              "array([5, 7, 9])"
            ]
          },
          "metadata": {},
          "execution_count": 29
        }
      ],
      "source": [
        "xs1 + xs2 # must have the same length"
      ]
    },
    {
      "cell_type": "code",
      "execution_count": 30,
      "metadata": {
        "id": "H72bhAAAkiRR",
        "outputId": "ff8de0c1-0978-4d9b-8255-23d0f9acd98a",
        "colab": {
          "base_uri": "https://localhost:8080/"
        }
      },
      "outputs": [
        {
          "output_type": "execute_result",
          "data": {
            "text/plain": [
              "array([ 4, 10, 18])"
            ]
          },
          "metadata": {},
          "execution_count": 30
        }
      ],
      "source": [
        "xs1 * xs2 # must have the same length"
      ]
    },
    {
      "cell_type": "code",
      "execution_count": 31,
      "metadata": {
        "id": "Hz-Z-1LukiRR",
        "outputId": "30d5c904-fbd8-4696-88da-bbe30e1b37f5",
        "colab": {
          "base_uri": "https://localhost:8080/"
        }
      },
      "outputs": [
        {
          "output_type": "execute_result",
          "data": {
            "text/plain": [
              "array([ 2.71828183,  7.3890561 , 20.08553692])"
            ]
          },
          "metadata": {},
          "execution_count": 31
        }
      ],
      "source": [
        "np.exp(xs1)"
      ]
    },
    {
      "cell_type": "code",
      "execution_count": 32,
      "metadata": {
        "id": "BVC1PH1tkiRR",
        "outputId": "04327dda-f279-4590-fae5-66ae317cc533",
        "colab": {
          "base_uri": "https://localhost:8080/"
        }
      },
      "outputs": [
        {
          "output_type": "execute_result",
          "data": {
            "text/plain": [
              "array([0.        , 0.69314718, 1.09861229])"
            ]
          },
          "metadata": {},
          "execution_count": 32
        }
      ],
      "source": [
        "np.log(xs1)"
      ]
    }
  ],
  "metadata": {
    "kernelspec": {
      "display_name": "Python 3 (ipykernel)",
      "language": "python",
      "name": "python3"
    },
    "language_info": {
      "codemirror_mode": {
        "name": "ipython",
        "version": 3
      },
      "file_extension": ".py",
      "mimetype": "text/x-python",
      "name": "python",
      "nbconvert_exporter": "python",
      "pygments_lexer": "ipython3",
      "version": "3.13.7"
    },
    "colab": {
      "provenance": []
    }
  },
  "nbformat": 4,
  "nbformat_minor": 0
}