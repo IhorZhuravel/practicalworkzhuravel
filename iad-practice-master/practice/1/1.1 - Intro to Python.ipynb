{
  "cells": [
    {
      "cell_type": "markdown",
      "metadata": {
        "id": "BQxBVf9-aG2v"
      },
      "source": [
        "## Basics of Python: Data Types\n",
        "Python is an interpreted high-level general-purpose programming language. Its design philosophy emphasizes code readability with its use of significant indentation. Python is dynamically-typed and garbage-collected. It supports multiple programming paradigms, including object-oriented and functional programming (https://en.wikipedia.org/wiki/Python).\n",
        "\n",
        "(this is not a overview of Python in general, this notebook is just about some elementary concepts)\n",
        "### Numbers"
      ]
    },
    {
      "cell_type": "code",
      "execution_count": 1,
      "metadata": {
        "id": "yCbUDcHTaG2w",
        "outputId": "c038287d-2d01-4a0d-814f-2e10bb825493",
        "colab": {
          "base_uri": "https://localhost:8080/"
        }
      },
      "outputs": [
        {
          "output_type": "stream",
          "name": "stdout",
          "text": [
            "3\n",
            "2\n",
            "0.5\n"
          ]
        }
      ],
      "source": [
        "a = 1 # variables created when assigned\n",
        "b = 2\n",
        "print(a + b)\n",
        "print(a * b)\n",
        "print(a ** b - a / b)"
      ]
    },
    {
      "cell_type": "markdown",
      "metadata": {
        "id": "tVCz5OtIaG2x"
      },
      "source": [
        "### Lists\n",
        "Lists are useed to store multiple items in a single variable."
      ]
    },
    {
      "cell_type": "code",
      "execution_count": 2,
      "metadata": {
        "id": "XO8RLHseaG2y",
        "outputId": "0a90acdb-6615-4260-fb03-7db90a4ca473",
        "colab": {
          "base_uri": "https://localhost:8080/"
        }
      },
      "outputs": [
        {
          "output_type": "execute_result",
          "data": {
            "text/plain": [
              "[1, 2, 3]"
            ]
          },
          "metadata": {},
          "execution_count": 2
        }
      ],
      "source": [
        "a = [1, 2, 3]\n",
        "a"
      ]
    },
    {
      "cell_type": "code",
      "execution_count": 3,
      "metadata": {
        "id": "xmdFhnD6aG2y"
      },
      "outputs": [],
      "source": [
        "a.append('Hello!')"
      ]
    },
    {
      "cell_type": "code",
      "execution_count": 4,
      "metadata": {
        "id": "lNAGqOExaG2y",
        "outputId": "4a49f827-c76c-484f-db31-879b20f54b68",
        "colab": {
          "base_uri": "https://localhost:8080/"
        }
      },
      "outputs": [
        {
          "output_type": "execute_result",
          "data": {
            "text/plain": [
              "[1, 2, 3, 'Hello!']"
            ]
          },
          "metadata": {},
          "execution_count": 4
        }
      ],
      "source": [
        "a"
      ]
    },
    {
      "cell_type": "code",
      "execution_count": 5,
      "metadata": {
        "id": "aGEuIxeEaG2y",
        "outputId": "3c8c2190-11a2-4995-ef58-313aebe18ff8",
        "colab": {
          "base_uri": "https://localhost:8080/"
        }
      },
      "outputs": [
        {
          "output_type": "stream",
          "name": "stdout",
          "text": [
            "0 1\n",
            "1 2\n",
            "2 3\n",
            "3 Hello!\n"
          ]
        }
      ],
      "source": [
        "for i in range(len(a)): # range(len(a)) creates a sequence of numbers from 0 to len(a)\n",
        "    print(i, a[i])"
      ]
    },
    {
      "cell_type": "code",
      "execution_count": 6,
      "metadata": {
        "id": "qNA3yBPlaG2z",
        "outputId": "88ed2a83-eb85-44d2-fb6b-f5e2138fd5d5",
        "colab": {
          "base_uri": "https://localhost:8080/"
        }
      },
      "outputs": [
        {
          "output_type": "stream",
          "name": "stdout",
          "text": [
            "<class 'int'>\n",
            "<class 'str'>\n"
          ]
        }
      ],
      "source": [
        "print(type(a[0]))\n",
        "print(type(a[-1])) # last element"
      ]
    },
    {
      "cell_type": "code",
      "execution_count": 7,
      "metadata": {
        "id": "4KIZHHadaG2z",
        "outputId": "4bb76967-48e9-48fc-e739-b04b209fa231",
        "colab": {
          "base_uri": "https://localhost:8080/"
        }
      },
      "outputs": [
        {
          "output_type": "execute_result",
          "data": {
            "text/plain": [
              "[2, 3, 'Hello!']"
            ]
          },
          "metadata": {},
          "execution_count": 7
        }
      ],
      "source": [
        "a[1:]"
      ]
    },
    {
      "cell_type": "code",
      "execution_count": 8,
      "metadata": {
        "id": "C-MDRxfiaG2z",
        "outputId": "62e5d154-b595-443e-d273-791141e00a8f",
        "colab": {
          "base_uri": "https://localhost:8080/"
        }
      },
      "outputs": [
        {
          "output_type": "execute_result",
          "data": {
            "text/plain": [
              "[1, 2]"
            ]
          },
          "metadata": {},
          "execution_count": 8
        }
      ],
      "source": [
        "a[:-2]"
      ]
    },
    {
      "cell_type": "code",
      "execution_count": 9,
      "metadata": {
        "id": "oAZlKyAfaG2z",
        "outputId": "196e21dc-e7a4-43ad-bdf7-a614fc95ddba",
        "colab": {
          "base_uri": "https://localhost:8080/"
        }
      },
      "outputs": [
        {
          "output_type": "stream",
          "name": "stdout",
          "text": [
            "[['u', 0, 3], 2, 3, 'Hello!']\n",
            "u\n"
          ]
        }
      ],
      "source": [
        "a[0] = ['u', 0, 3]\n",
        "print(a)\n",
        "print(a[0][0])"
      ]
    },
    {
      "cell_type": "code",
      "execution_count": 10,
      "metadata": {
        "id": "8coaROZsaG20"
      },
      "outputs": [],
      "source": [
        "new_list = [i**2 for i in range(5)] # list comprehensions"
      ]
    },
    {
      "cell_type": "code",
      "execution_count": 11,
      "metadata": {
        "id": "jIpva5YqaG20",
        "outputId": "88ec9088-2606-4dce-b54d-4658ee2eeec4",
        "colab": {
          "base_uri": "https://localhost:8080/"
        }
      },
      "outputs": [
        {
          "output_type": "execute_result",
          "data": {
            "text/plain": [
              "[0, 1, 4, 9, 16]"
            ]
          },
          "metadata": {},
          "execution_count": 11
        }
      ],
      "source": [
        "new_list"
      ]
    },
    {
      "cell_type": "code",
      "execution_count": 12,
      "metadata": {
        "id": "noCqn0WDaG20"
      },
      "outputs": [],
      "source": [
        "a1 = [1, 2, 3]\n",
        "a2 = ['1', '2', '3']"
      ]
    },
    {
      "cell_type": "code",
      "execution_count": 13,
      "metadata": {
        "id": "KGLXel56aG20",
        "outputId": "e0b8befc-c4a8-4ab7-ebc0-f3fa655a3b7e",
        "colab": {
          "base_uri": "https://localhost:8080/"
        }
      },
      "outputs": [
        {
          "output_type": "execute_result",
          "data": {
            "text/plain": [
              "[1, 2, 3, '1', '2', '3']"
            ]
          },
          "metadata": {},
          "execution_count": 13
        }
      ],
      "source": [
        "a1 + a2 # concatenation"
      ]
    },
    {
      "cell_type": "code",
      "execution_count": 14,
      "metadata": {
        "id": "WGE3MWOGaG20"
      },
      "outputs": [],
      "source": [
        "matrix = [[1, 2, 3], [4, 5, 6]]"
      ]
    },
    {
      "cell_type": "code",
      "execution_count": 15,
      "metadata": {
        "id": "tT959dxbaG20",
        "outputId": "b76d35f2-7c63-498c-85fa-8a5cd626d24f",
        "colab": {
          "base_uri": "https://localhost:8080/"
        }
      },
      "outputs": [
        {
          "output_type": "execute_result",
          "data": {
            "text/plain": [
              "[[1, 2, 3], [4, 5, 6]]"
            ]
          },
          "metadata": {},
          "execution_count": 15
        }
      ],
      "source": [
        "matrix"
      ]
    },
    {
      "cell_type": "code",
      "execution_count": 16,
      "metadata": {
        "id": "G2wi4-mwaG20",
        "outputId": "90d5123b-7ad1-4f3a-9f31-fa445f8601e0",
        "colab": {
          "base_uri": "https://localhost:8080/"
        }
      },
      "outputs": [
        {
          "output_type": "execute_result",
          "data": {
            "text/plain": [
              "2"
            ]
          },
          "metadata": {},
          "execution_count": 16
        }
      ],
      "source": [
        "len(matrix)"
      ]
    },
    {
      "cell_type": "code",
      "execution_count": 17,
      "metadata": {
        "id": "UxcP3A-jaG20",
        "outputId": "4026f9ed-7453-4715-e26a-f6ef117b8005",
        "colab": {
          "base_uri": "https://localhost:8080/"
        }
      },
      "outputs": [
        {
          "output_type": "execute_result",
          "data": {
            "text/plain": [
              "3"
            ]
          },
          "metadata": {},
          "execution_count": 17
        }
      ],
      "source": [
        "len(matrix[0])"
      ]
    },
    {
      "cell_type": "markdown",
      "metadata": {
        "id": "iVtMJqEdaG20"
      },
      "source": [
        "### Dictionaries\n",
        "Dictionary are used to store data values in key:value pairs."
      ]
    },
    {
      "cell_type": "code",
      "execution_count": 18,
      "metadata": {
        "id": "sAPD_xcZaG20",
        "outputId": "65130c6c-6927-4d73-e8ca-fddd89ac3dcc",
        "colab": {
          "base_uri": "https://localhost:8080/"
        }
      },
      "outputs": [
        {
          "output_type": "stream",
          "name": "stdout",
          "text": [
            "{'key_1': 'value_1', 'key_2': 'value_2'}\n"
          ]
        }
      ],
      "source": [
        "d = {'key_1': 'value_1', 'key_2': 'value_2'}\n",
        "print(d)"
      ]
    },
    {
      "cell_type": "code",
      "execution_count": 19,
      "metadata": {
        "id": "i7UgRyRvaG20",
        "outputId": "3ede8c9a-a148-4d8a-b701-371eedc8397b",
        "colab": {
          "base_uri": "https://localhost:8080/",
          "height": 35
        }
      },
      "outputs": [
        {
          "output_type": "execute_result",
          "data": {
            "text/plain": [
              "'value_1'"
            ],
            "application/vnd.google.colaboratory.intrinsic+json": {
              "type": "string"
            }
          },
          "metadata": {},
          "execution_count": 19
        }
      ],
      "source": [
        "d['key_1']"
      ]
    },
    {
      "cell_type": "code",
      "execution_count": 20,
      "metadata": {
        "id": "XNw86cwcaG20",
        "outputId": "e0d72a6b-273b-48a2-ca81-5799338dd9de",
        "colab": {
          "base_uri": "https://localhost:8080/"
        }
      },
      "outputs": [
        {
          "output_type": "execute_result",
          "data": {
            "text/plain": [
              "dict_keys(['key_1', 'key_2'])"
            ]
          },
          "metadata": {},
          "execution_count": 20
        }
      ],
      "source": [
        "d.keys()"
      ]
    },
    {
      "cell_type": "markdown",
      "metadata": {
        "id": "-1mLpkyNaG21"
      },
      "source": [
        "## Basics of Python: Functions\n",
        "a function is defined using the def keyword."
      ]
    },
    {
      "cell_type": "code",
      "execution_count": 21,
      "metadata": {
        "id": "Y05tiXHKaG21"
      },
      "outputs": [],
      "source": [
        "def hello_function():\n",
        "    print(\"Hello!\")"
      ]
    },
    {
      "cell_type": "code",
      "execution_count": 22,
      "metadata": {
        "id": "Z8aAmHJXaG21"
      },
      "outputs": [],
      "source": [
        "def my_function(x, y):\n",
        "    return x**3, x + y"
      ]
    },
    {
      "cell_type": "code",
      "execution_count": 23,
      "metadata": {
        "id": "s4csfcnAaG21",
        "outputId": "b5d63472-d7e9-4605-c4fe-3bb642b265e3",
        "colab": {
          "base_uri": "https://localhost:8080/"
        }
      },
      "outputs": [
        {
          "output_type": "stream",
          "name": "stdout",
          "text": [
            "Hello!\n"
          ]
        }
      ],
      "source": [
        "hello_function()"
      ]
    },
    {
      "cell_type": "code",
      "execution_count": 24,
      "metadata": {
        "id": "7uLtS8mPaG21",
        "outputId": "d81189b8-57e7-4c31-c53f-866b79d47150",
        "colab": {
          "base_uri": "https://localhost:8080/"
        }
      },
      "outputs": [
        {
          "output_type": "execute_result",
          "data": {
            "text/plain": [
              "(64, 5)"
            ]
          },
          "metadata": {},
          "execution_count": 24
        }
      ],
      "source": [
        "my_function(4, 1)"
      ]
    },
    {
      "cell_type": "code",
      "execution_count": 24,
      "metadata": {
        "id": "02E3axISaG21"
      },
      "outputs": [],
      "source": []
    },
    {
      "cell_type": "code",
      "execution_count": 24,
      "metadata": {
        "id": "EpKEHBg3aG21"
      },
      "outputs": [],
      "source": []
    }
  ],
  "metadata": {
    "kernelspec": {
      "display_name": "Python 3 (ipykernel)",
      "language": "python",
      "name": "python3"
    },
    "language_info": {
      "codemirror_mode": {
        "name": "ipython",
        "version": 3
      },
      "file_extension": ".py",
      "mimetype": "text/x-python",
      "name": "python",
      "nbconvert_exporter": "python",
      "pygments_lexer": "ipython3",
      "version": "3.13.7"
    },
    "colab": {
      "provenance": []
    }
  },
  "nbformat": 4,
  "nbformat_minor": 0
}