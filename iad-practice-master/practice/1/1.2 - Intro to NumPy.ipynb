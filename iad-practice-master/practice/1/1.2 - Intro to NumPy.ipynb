{
  "cells": [
    {
      "cell_type": "markdown",
      "metadata": {
        "id": "5rS7yBPyadDI"
      },
      "source": [
        "## Intro to NumPy\n",
        "NumPy is a library for the Python programming language, adding support for large, multi-dimensional arrays and matrices, along with a large collection of high-level mathematical functions to operate on these arrays (https://en.wikipedia.org/wiki/NumPy).\n",
        "\n",
        "Numpy is incredibly fast, as it has bindings to C libraries."
      ]
    },
    {
      "cell_type": "code",
      "execution_count": 25,
      "metadata": {
        "id": "f-ymLM7MadDJ"
      },
      "outputs": [],
      "source": [
        "import numpy as np"
      ]
    },
    {
      "cell_type": "markdown",
      "metadata": {
        "id": "GcrzUPSRadDJ"
      },
      "source": [
        "## Creation of NumPy array\n",
        "### From a list"
      ]
    },
    {
      "cell_type": "code",
      "execution_count": 26,
      "metadata": {
        "id": "yVIVZacxadDK"
      },
      "outputs": [],
      "source": [
        "a_list = [1, 2, 3]\n",
        "a_array = np.array(a_list)"
      ]
    },
    {
      "cell_type": "code",
      "execution_count": 27,
      "metadata": {
        "id": "VxvEv4TMadDK",
        "outputId": "8174fe80-8710-42f3-ac9d-c81ccc3cb779",
        "colab": {
          "base_uri": "https://localhost:8080/"
        }
      },
      "outputs": [
        {
          "output_type": "stream",
          "name": "stdout",
          "text": [
            "<class 'list'>\n",
            "<class 'numpy.ndarray'>\n"
          ]
        }
      ],
      "source": [
        "print(type(a_list))\n",
        "print(type(a_array))"
      ]
    },
    {
      "cell_type": "code",
      "execution_count": 28,
      "metadata": {
        "id": "Y_wTaZQ1adDK"
      },
      "outputs": [],
      "source": [
        "matrix = [[1,2,3],[4,5,6],[7,8,9]]\n",
        "a_2D = np.array(matrix)"
      ]
    },
    {
      "cell_type": "markdown",
      "metadata": {
        "id": "qdFY0-oZadDK"
      },
      "source": [
        "### Using built-in methods"
      ]
    },
    {
      "cell_type": "code",
      "execution_count": 29,
      "metadata": {
        "id": "ZWvCTAyTadDK",
        "outputId": "8d381e78-a8e9-47e4-9b47-677148699d3a",
        "colab": {
          "base_uri": "https://localhost:8080/"
        }
      },
      "outputs": [
        {
          "output_type": "execute_result",
          "data": {
            "text/plain": [
              "array([0, 1, 2, 3, 4, 5, 6, 7, 8, 9])"
            ]
          },
          "metadata": {},
          "execution_count": 29
        }
      ],
      "source": [
        "np.arange(0, 10)"
      ]
    },
    {
      "cell_type": "code",
      "execution_count": 30,
      "metadata": {
        "id": "GIaae6e6adDL",
        "outputId": "74ac0fce-b842-4bc0-ff95-d567850654d5",
        "colab": {
          "base_uri": "https://localhost:8080/"
        }
      },
      "outputs": [
        {
          "output_type": "execute_result",
          "data": {
            "text/plain": [
              "array([0, 2, 4, 6, 8])"
            ]
          },
          "metadata": {},
          "execution_count": 30
        }
      ],
      "source": [
        "np.arange(0, 10, 2) # np.arange(start, stop, step)"
      ]
    },
    {
      "cell_type": "code",
      "execution_count": 31,
      "metadata": {
        "id": "x84IHG8nadDL",
        "outputId": "408f80c4-0872-4c5c-b1ae-23f4d208951f",
        "colab": {
          "base_uri": "https://localhost:8080/"
        }
      },
      "outputs": [
        {
          "output_type": "execute_result",
          "data": {
            "text/plain": [
              "array([0., 0., 0.])"
            ]
          },
          "metadata": {},
          "execution_count": 31
        }
      ],
      "source": [
        "np.zeros(3)"
      ]
    },
    {
      "cell_type": "code",
      "execution_count": 32,
      "metadata": {
        "id": "7yje27OqadDL",
        "outputId": "7c3b8efc-47ab-41fc-9172-c41de745b29f",
        "colab": {
          "base_uri": "https://localhost:8080/"
        }
      },
      "outputs": [
        {
          "output_type": "execute_result",
          "data": {
            "text/plain": [
              "array([[0., 0., 0.],\n",
              "       [0., 0., 0.],\n",
              "       [0., 0., 0.]])"
            ]
          },
          "metadata": {},
          "execution_count": 32
        }
      ],
      "source": [
        "np.zeros((3, 3))"
      ]
    },
    {
      "cell_type": "code",
      "execution_count": 33,
      "metadata": {
        "id": "IDTiIEg1adDL",
        "outputId": "57f267fd-3739-4601-993e-2a35ddac6df1",
        "colab": {
          "base_uri": "https://localhost:8080/"
        }
      },
      "outputs": [
        {
          "output_type": "execute_result",
          "data": {
            "text/plain": [
              "array([ 0.        ,  0.52631579,  1.05263158,  1.57894737,  2.10526316,\n",
              "        2.63157895,  3.15789474,  3.68421053,  4.21052632,  4.73684211,\n",
              "        5.26315789,  5.78947368,  6.31578947,  6.84210526,  7.36842105,\n",
              "        7.89473684,  8.42105263,  8.94736842,  9.47368421, 10.        ])"
            ]
          },
          "metadata": {},
          "execution_count": 33
        }
      ],
      "source": [
        "np.linspace(0, 10, 20) # np.linspace(start, stop, num=50)"
      ]
    },
    {
      "cell_type": "markdown",
      "metadata": {
        "id": "iudze9JQadDL"
      },
      "source": [
        "## Random\n",
        "\n",
        "### uniform\n",
        "Return an array of the given shape with random samples from a uniform distribution"
      ]
    },
    {
      "cell_type": "code",
      "execution_count": 34,
      "metadata": {
        "id": "4xw9lmd2adDL",
        "outputId": "41cdf7c8-0338-41e2-e11e-2d2589b2f024",
        "colab": {
          "base_uri": "https://localhost:8080/"
        }
      },
      "outputs": [
        {
          "output_type": "execute_result",
          "data": {
            "text/plain": [
              "array([0.891773  , 0.96366276, 0.38344152, 0.79172504, 0.52889492])"
            ]
          },
          "metadata": {},
          "execution_count": 34
        }
      ],
      "source": [
        "np.random.uniform(0, 1, 5) # (low, high, size)"
      ]
    },
    {
      "cell_type": "markdown",
      "metadata": {
        "id": "vyn3TQbDadDM"
      },
      "source": [
        "### randn\n",
        "Return samples from the “standard normal” distribution."
      ]
    },
    {
      "cell_type": "code",
      "execution_count": 35,
      "metadata": {
        "id": "5DE5WUkxadDM",
        "outputId": "1b9e5a35-e337-487a-ef61-69fb460f8ded",
        "colab": {
          "base_uri": "https://localhost:8080/"
        }
      },
      "outputs": [
        {
          "output_type": "execute_result",
          "data": {
            "text/plain": [
              "array([[0.76103773, 0.12167502],\n",
              "       [0.44386323, 0.33367433]])"
            ]
          },
          "metadata": {},
          "execution_count": 35
        }
      ],
      "source": [
        "np.random.randn(2,2) # standard normal (Gaussian) distribution of mean 0 and variance 1"
      ]
    },
    {
      "cell_type": "markdown",
      "metadata": {
        "id": "zgKaA1atadDM"
      },
      "source": [
        "### normal"
      ]
    },
    {
      "cell_type": "code",
      "execution_count": 36,
      "metadata": {
        "id": "SzLy2yTxadDM",
        "outputId": "c470747f-5bf5-4a64-c9f2-c31948b444bc",
        "colab": {
          "base_uri": "https://localhost:8080/"
        }
      },
      "outputs": [
        {
          "output_type": "execute_result",
          "data": {
            "text/plain": [
              "array([[ 1.74703954,  0.89742087],\n",
              "       [ 1.15653385,  0.57295213],\n",
              "       [-0.27649491,  1.3268093 ]])"
            ]
          },
          "metadata": {},
          "execution_count": 36
        }
      ],
      "source": [
        "mu, sigma = 1, 0.5 # mean and standard deviation\n",
        "np.random.normal(mu, sigma, size = (3, 2))"
      ]
    },
    {
      "cell_type": "markdown",
      "metadata": {
        "id": "kJjmrhePadDM"
      },
      "source": [
        "### multivariate normal"
      ]
    },
    {
      "cell_type": "code",
      "execution_count": 37,
      "metadata": {
        "id": "CTQi6lFLadDM",
        "outputId": "2848a07f-5e28-4f0d-cbdf-87dd52757822",
        "colab": {
          "base_uri": "https://localhost:8080/"
        }
      },
      "outputs": [
        {
          "output_type": "execute_result",
          "data": {
            "text/plain": [
              "array([[[1.8644362 , 1.25783498],\n",
              "        [3.26975462, 0.54563433]],\n",
              "\n",
              "       [[1.04575852, 1.81281615],\n",
              "        [2.53277921, 3.46935877]],\n",
              "\n",
              "       [[1.15494743, 2.37816252],\n",
              "        [0.11221425, 0.01920353]]])"
            ]
          },
          "metadata": {},
          "execution_count": 37
        }
      ],
      "source": [
        "mean = [1, 2]\n",
        "cov = [[1, 0], [0, 1]]\n",
        "np.random.multivariate_normal(mean, cov, size= (3, 2))"
      ]
    },
    {
      "cell_type": "markdown",
      "metadata": {
        "id": "6bCFtLZ_adDM"
      },
      "source": [
        "### randint\n",
        "Return random integers"
      ]
    },
    {
      "cell_type": "code",
      "execution_count": 38,
      "metadata": {
        "id": "Si7qrzMHadDM",
        "outputId": "58eab683-560f-468d-a198-acb5cee9d2ef",
        "colab": {
          "base_uri": "https://localhost:8080/"
        }
      },
      "outputs": [
        {
          "output_type": "execute_result",
          "data": {
            "text/plain": [
              "array([66, 42, 58, 36, 12])"
            ]
          },
          "metadata": {},
          "execution_count": 38
        }
      ],
      "source": [
        "np.random.randint(1, 100, 5) # randint(low, high=None, size=None)"
      ]
    },
    {
      "cell_type": "markdown",
      "metadata": {
        "id": "ypgKLGrpadDM"
      },
      "source": [
        "### seed()\n",
        "The seed() method is used to initialize the random number generator."
      ]
    },
    {
      "cell_type": "code",
      "execution_count": 39,
      "metadata": {
        "id": "zBp7EYXLadDM"
      },
      "outputs": [],
      "source": [
        "np.random.seed(0)"
      ]
    },
    {
      "cell_type": "markdown",
      "metadata": {
        "id": "CCb1JiTwadDN"
      },
      "source": [
        "### Operations"
      ]
    },
    {
      "cell_type": "code",
      "execution_count": 40,
      "metadata": {
        "id": "SWZk4HGEadDN",
        "outputId": "3aa4f3f1-8ed8-426f-860b-f446361a9ff7",
        "colab": {
          "base_uri": "https://localhost:8080/"
        }
      },
      "outputs": [
        {
          "output_type": "stream",
          "name": "stdout",
          "text": [
            "arr: \n",
            "[0 1 2 3 4 5 6 7 8 9]\n",
            "arr_r: \n",
            "[[0 1 2 3 4]\n",
            " [5 6 7 8 9]]\n"
          ]
        }
      ],
      "source": [
        "arr = np.arange(0, 10)\n",
        "arr_r = arr.reshape(2, 5)\n",
        "print('arr: ')\n",
        "print(arr)\n",
        "print('arr_r: ')\n",
        "print(arr_r)"
      ]
    },
    {
      "cell_type": "code",
      "execution_count": 41,
      "metadata": {
        "id": "z73YeSieadDN",
        "outputId": "593ea517-6da2-489c-f64c-4031815d1767",
        "colab": {
          "base_uri": "https://localhost:8080/"
        }
      },
      "outputs": [
        {
          "output_type": "stream",
          "name": "stdout",
          "text": [
            "[45 48 65 68 68 10 84 22 37 88]\n"
          ]
        }
      ],
      "source": [
        "my_arr = np.random.randint(1, 100, 10)\n",
        "print(my_arr)"
      ]
    },
    {
      "cell_type": "code",
      "execution_count": 42,
      "metadata": {
        "id": "e6PLoQFfadDN",
        "outputId": "04a0ac13-3d6d-4801-d4c6-d810093fe2ce",
        "colab": {
          "base_uri": "https://localhost:8080/"
        }
      },
      "outputs": [
        {
          "output_type": "execute_result",
          "data": {
            "text/plain": [
              "np.int64(88)"
            ]
          },
          "metadata": {},
          "execution_count": 42
        }
      ],
      "source": [
        "my_arr.max()"
      ]
    },
    {
      "cell_type": "code",
      "execution_count": 43,
      "metadata": {
        "id": "thw2nYPgadDN",
        "outputId": "fd989ee8-7a60-4013-e7fc-ce5b27a6fb5e",
        "colab": {
          "base_uri": "https://localhost:8080/"
        }
      },
      "outputs": [
        {
          "output_type": "execute_result",
          "data": {
            "text/plain": [
              "np.int64(9)"
            ]
          },
          "metadata": {},
          "execution_count": 43
        }
      ],
      "source": [
        "my_arr.argmax()"
      ]
    },
    {
      "cell_type": "code",
      "execution_count": 44,
      "metadata": {
        "id": "rcPh_c4oadDN"
      },
      "outputs": [],
      "source": [
        "arr_1 = np.array([1, 2, 3])\n",
        "arr_2 = np.array([4, 5, 6])"
      ]
    },
    {
      "cell_type": "code",
      "execution_count": 45,
      "metadata": {
        "id": "OtUzKqA-adDN",
        "outputId": "c360fae2-5503-4c27-a133-34be6f037ab9",
        "colab": {
          "base_uri": "https://localhost:8080/"
        }
      },
      "outputs": [
        {
          "output_type": "execute_result",
          "data": {
            "text/plain": [
              "array([5, 7, 9])"
            ]
          },
          "metadata": {},
          "execution_count": 45
        }
      ],
      "source": [
        "arr_1 + arr_2"
      ]
    },
    {
      "cell_type": "code",
      "execution_count": 46,
      "metadata": {
        "id": "jOxd_x_ladDN",
        "outputId": "0001a82a-c722-4329-bc66-652bb456da7d",
        "colab": {
          "base_uri": "https://localhost:8080/"
        }
      },
      "outputs": [
        {
          "output_type": "execute_result",
          "data": {
            "text/plain": [
              "array([ 4, 10, 18])"
            ]
          },
          "metadata": {},
          "execution_count": 46
        }
      ],
      "source": [
        "arr_1 * arr_2"
      ]
    },
    {
      "cell_type": "code",
      "execution_count": 47,
      "metadata": {
        "id": "5KEYha1badDN",
        "outputId": "fa1550ae-a525-49e2-b474-72ec6f066e7d",
        "colab": {
          "base_uri": "https://localhost:8080/"
        }
      },
      "outputs": [
        {
          "output_type": "execute_result",
          "data": {
            "text/plain": [
              "array([ 2.71828183,  7.3890561 , 20.08553692])"
            ]
          },
          "metadata": {},
          "execution_count": 47
        }
      ],
      "source": [
        "np.exp(arr_1)"
      ]
    },
    {
      "cell_type": "code",
      "execution_count": 48,
      "metadata": {
        "id": "SLzqBZnSadDN",
        "outputId": "4611adb0-6297-4ea2-a870-1f755541cd68",
        "colab": {
          "base_uri": "https://localhost:8080/"
        }
      },
      "outputs": [
        {
          "output_type": "execute_result",
          "data": {
            "text/plain": [
              "array([0.        , 0.69314718, 1.09861229])"
            ]
          },
          "metadata": {},
          "execution_count": 48
        }
      ],
      "source": [
        "np.log(arr_1)"
      ]
    },
    {
      "cell_type": "code",
      "execution_count": 48,
      "metadata": {
        "id": "XSbtLbjwadDN"
      },
      "outputs": [],
      "source": []
    }
  ],
  "metadata": {
    "kernelspec": {
      "display_name": "Python 3 (ipykernel)",
      "language": "python",
      "name": "python3"
    },
    "language_info": {
      "codemirror_mode": {
        "name": "ipython",
        "version": 3
      },
      "file_extension": ".py",
      "mimetype": "text/x-python",
      "name": "python",
      "nbconvert_exporter": "python",
      "pygments_lexer": "ipython3",
      "version": "3.13.7"
    },
    "colab": {
      "provenance": []
    }
  },
  "nbformat": 4,
  "nbformat_minor": 0
}